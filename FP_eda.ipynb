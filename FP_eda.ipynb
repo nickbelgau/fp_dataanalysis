{
 "cells": [
  {
   "cell_type": "markdown",
   "metadata": {},
   "source": [
    "### Load data and view meta data"
   ]
  },
  {
   "cell_type": "code",
   "execution_count": 1,
   "metadata": {},
   "outputs": [],
   "source": [
    "import pandas as pd\n",
    "import seaborn as sns\n",
    "import numpy as np\n",
    "import matplotlib.pyplot as plt"
   ]
  },
  {
   "cell_type": "code",
   "execution_count": 2,
   "metadata": {},
   "outputs": [
    {
     "data": {
      "text/html": [
       "<div>\n",
       "<style scoped>\n",
       "    .dataframe tbody tr th:only-of-type {\n",
       "        vertical-align: middle;\n",
       "    }\n",
       "\n",
       "    .dataframe tbody tr th {\n",
       "        vertical-align: top;\n",
       "    }\n",
       "\n",
       "    .dataframe thead th {\n",
       "        text-align: right;\n",
       "    }\n",
       "</style>\n",
       "<table border=\"1\" class=\"dataframe\">\n",
       "  <thead>\n",
       "    <tr style=\"text-align: right;\">\n",
       "      <th></th>\n",
       "      <th>locations</th>\n",
       "      <th>service_center</th>\n",
       "      <th>business_status</th>\n",
       "      <th>address</th>\n",
       "      <th>rating</th>\n",
       "      <th>price_level</th>\n",
       "      <th>review_count</th>\n",
       "    </tr>\n",
       "  </thead>\n",
       "  <tbody>\n",
       "    <tr>\n",
       "      <td>0</td>\n",
       "      <td>AL Birmingham</td>\n",
       "      <td>1.0</td>\n",
       "      <td>OPERATIONAL</td>\n",
       "      <td>2403 21st St N, Birmingham, AL 35234, United S...</td>\n",
       "      <td>4.7</td>\n",
       "      <td>2.0</td>\n",
       "      <td>60</td>\n",
       "    </tr>\n",
       "    <tr>\n",
       "      <td>1</td>\n",
       "      <td>AL Decatur</td>\n",
       "      <td>NaN</td>\n",
       "      <td>OPERATIONAL</td>\n",
       "      <td>1101 McEntire Ln NW, Decatur, AL 35601, United...</td>\n",
       "      <td>4.8</td>\n",
       "      <td>2.0</td>\n",
       "      <td>24</td>\n",
       "    </tr>\n",
       "    <tr>\n",
       "      <td>2</td>\n",
       "      <td>AL Dothan</td>\n",
       "      <td>NaN</td>\n",
       "      <td>OPERATIONAL</td>\n",
       "      <td>2308 N Range St, Dothan, AL 36303, United States</td>\n",
       "      <td>4.8</td>\n",
       "      <td>2.0</td>\n",
       "      <td>28</td>\n",
       "    </tr>\n",
       "    <tr>\n",
       "      <td>3</td>\n",
       "      <td>AL Mobile</td>\n",
       "      <td>1.0</td>\n",
       "      <td>OPERATIONAL</td>\n",
       "      <td>5245 Halls Mill Rd, Mobile, AL 36619, United S...</td>\n",
       "      <td>4.5</td>\n",
       "      <td>2.0</td>\n",
       "      <td>48</td>\n",
       "    </tr>\n",
       "    <tr>\n",
       "      <td>4</td>\n",
       "      <td>AL Tuscaloosa</td>\n",
       "      <td>NaN</td>\n",
       "      <td>OPERATIONAL</td>\n",
       "      <td>5947 Old Montgomery Hwy, Tuscaloosa, AL 35405,...</td>\n",
       "      <td>4.7</td>\n",
       "      <td>2.0</td>\n",
       "      <td>26</td>\n",
       "    </tr>\n",
       "  </tbody>\n",
       "</table>\n",
       "</div>"
      ],
      "text/plain": [
       "       locations  service_center business_status  \\\n",
       "0  AL Birmingham             1.0     OPERATIONAL   \n",
       "1     AL Decatur             NaN     OPERATIONAL   \n",
       "2      AL Dothan             NaN     OPERATIONAL   \n",
       "3      AL Mobile             1.0     OPERATIONAL   \n",
       "4  AL Tuscaloosa             NaN     OPERATIONAL   \n",
       "\n",
       "                                             address  rating  price_level  \\\n",
       "0  2403 21st St N, Birmingham, AL 35234, United S...     4.7          2.0   \n",
       "1  1101 McEntire Ln NW, Decatur, AL 35601, United...     4.8          2.0   \n",
       "2   2308 N Range St, Dothan, AL 36303, United States     4.8          2.0   \n",
       "3  5245 Halls Mill Rd, Mobile, AL 36619, United S...     4.5          2.0   \n",
       "4  5947 Old Montgomery Hwy, Tuscaloosa, AL 35405,...     4.7          2.0   \n",
       "\n",
       "   review_count  \n",
       "0            60  \n",
       "1            24  \n",
       "2            28  \n",
       "3            48  \n",
       "4            26  "
      ]
     },
     "execution_count": 2,
     "metadata": {},
     "output_type": "execute_result"
    }
   ],
   "source": [
    "filepath = 'C:\\\\Users\\\\Belgau\\\\Desktop\\\\FP_dataset.csv'\n",
    "df = pd.read_csv (filepath)\n",
    "df = df.iloc[: , 1:] #drop first col (numbered index from web scrap)\n",
    "df.head()"
   ]
  },
  {
   "cell_type": "code",
   "execution_count": 3,
   "metadata": {},
   "outputs": [
    {
     "data": {
      "text/plain": [
       "(111, 7)"
      ]
     },
     "execution_count": 3,
     "metadata": {},
     "output_type": "execute_result"
    }
   ],
   "source": [
    "df.shape"
   ]
  },
  {
   "cell_type": "code",
   "execution_count": 4,
   "metadata": {},
   "outputs": [
    {
     "name": "stdout",
     "output_type": "stream",
     "text": [
      "0 locations\n",
      "1 service_center\n",
      "2 business_status\n",
      "3 address\n",
      "4 rating\n",
      "5 price_level\n",
      "6 review_count\n"
     ]
    }
   ],
   "source": [
    "for i,col in enumerate(df.columns): #Show number of columns and names\n",
    "    print(i,col)"
   ]
  },
  {
   "cell_type": "code",
   "execution_count": 5,
   "metadata": {},
   "outputs": [
    {
     "data": {
      "text/plain": [
       "locations           object\n",
       "service_center     float64\n",
       "business_status     object\n",
       "address             object\n",
       "rating             float64\n",
       "price_level        float64\n",
       "review_count         int64\n",
       "dtype: object"
      ]
     },
     "execution_count": 5,
     "metadata": {},
     "output_type": "execute_result"
    }
   ],
   "source": [
    "df.dtypes"
   ]
  },
  {
   "cell_type": "code",
   "execution_count": 6,
   "metadata": {
    "scrolled": true
   },
   "outputs": [
    {
     "data": {
      "text/html": [
       "<div>\n",
       "<style scoped>\n",
       "    .dataframe tbody tr th:only-of-type {\n",
       "        vertical-align: middle;\n",
       "    }\n",
       "\n",
       "    .dataframe tbody tr th {\n",
       "        vertical-align: top;\n",
       "    }\n",
       "\n",
       "    .dataframe thead th {\n",
       "        text-align: right;\n",
       "    }\n",
       "</style>\n",
       "<table border=\"1\" class=\"dataframe\">\n",
       "  <thead>\n",
       "    <tr style=\"text-align: right;\">\n",
       "      <th></th>\n",
       "      <th>locations</th>\n",
       "      <th>service_center</th>\n",
       "      <th>business_status</th>\n",
       "      <th>address</th>\n",
       "      <th>rating</th>\n",
       "      <th>price_level</th>\n",
       "      <th>review_count</th>\n",
       "    </tr>\n",
       "  </thead>\n",
       "  <tbody>\n",
       "    <tr>\n",
       "      <td>count</td>\n",
       "      <td>111</td>\n",
       "      <td>55.0</td>\n",
       "      <td>111</td>\n",
       "      <td>111</td>\n",
       "      <td>111.000000</td>\n",
       "      <td>97.0</td>\n",
       "      <td>111.000000</td>\n",
       "    </tr>\n",
       "    <tr>\n",
       "      <td>unique</td>\n",
       "      <td>111</td>\n",
       "      <td>NaN</td>\n",
       "      <td>2</td>\n",
       "      <td>109</td>\n",
       "      <td>NaN</td>\n",
       "      <td>NaN</td>\n",
       "      <td>NaN</td>\n",
       "    </tr>\n",
       "    <tr>\n",
       "      <td>top</td>\n",
       "      <td>MN St. Cloud</td>\n",
       "      <td>NaN</td>\n",
       "      <td>OPERATIONAL</td>\n",
       "      <td>17000 S Main St, Gardena, CA 90248, United States</td>\n",
       "      <td>NaN</td>\n",
       "      <td>NaN</td>\n",
       "      <td>NaN</td>\n",
       "    </tr>\n",
       "    <tr>\n",
       "      <td>freq</td>\n",
       "      <td>1</td>\n",
       "      <td>NaN</td>\n",
       "      <td>110</td>\n",
       "      <td>2</td>\n",
       "      <td>NaN</td>\n",
       "      <td>NaN</td>\n",
       "      <td>NaN</td>\n",
       "    </tr>\n",
       "    <tr>\n",
       "      <td>mean</td>\n",
       "      <td>NaN</td>\n",
       "      <td>1.0</td>\n",
       "      <td>NaN</td>\n",
       "      <td>NaN</td>\n",
       "      <td>4.441441</td>\n",
       "      <td>2.0</td>\n",
       "      <td>39.441441</td>\n",
       "    </tr>\n",
       "    <tr>\n",
       "      <td>std</td>\n",
       "      <td>NaN</td>\n",
       "      <td>0.0</td>\n",
       "      <td>NaN</td>\n",
       "      <td>NaN</td>\n",
       "      <td>0.305545</td>\n",
       "      <td>0.0</td>\n",
       "      <td>26.934832</td>\n",
       "    </tr>\n",
       "    <tr>\n",
       "      <td>min</td>\n",
       "      <td>NaN</td>\n",
       "      <td>1.0</td>\n",
       "      <td>NaN</td>\n",
       "      <td>NaN</td>\n",
       "      <td>3.600000</td>\n",
       "      <td>2.0</td>\n",
       "      <td>2.000000</td>\n",
       "    </tr>\n",
       "    <tr>\n",
       "      <td>25%</td>\n",
       "      <td>NaN</td>\n",
       "      <td>1.0</td>\n",
       "      <td>NaN</td>\n",
       "      <td>NaN</td>\n",
       "      <td>4.200000</td>\n",
       "      <td>2.0</td>\n",
       "      <td>22.500000</td>\n",
       "    </tr>\n",
       "    <tr>\n",
       "      <td>50%</td>\n",
       "      <td>NaN</td>\n",
       "      <td>1.0</td>\n",
       "      <td>NaN</td>\n",
       "      <td>NaN</td>\n",
       "      <td>4.400000</td>\n",
       "      <td>2.0</td>\n",
       "      <td>34.000000</td>\n",
       "    </tr>\n",
       "    <tr>\n",
       "      <td>75%</td>\n",
       "      <td>NaN</td>\n",
       "      <td>1.0</td>\n",
       "      <td>NaN</td>\n",
       "      <td>NaN</td>\n",
       "      <td>4.700000</td>\n",
       "      <td>2.0</td>\n",
       "      <td>51.500000</td>\n",
       "    </tr>\n",
       "    <tr>\n",
       "      <td>max</td>\n",
       "      <td>NaN</td>\n",
       "      <td>1.0</td>\n",
       "      <td>NaN</td>\n",
       "      <td>NaN</td>\n",
       "      <td>5.000000</td>\n",
       "      <td>2.0</td>\n",
       "      <td>165.000000</td>\n",
       "    </tr>\n",
       "  </tbody>\n",
       "</table>\n",
       "</div>"
      ],
      "text/plain": [
       "           locations  service_center business_status  \\\n",
       "count            111            55.0             111   \n",
       "unique           111             NaN               2   \n",
       "top     MN St. Cloud             NaN     OPERATIONAL   \n",
       "freq               1             NaN             110   \n",
       "mean             NaN             1.0             NaN   \n",
       "std              NaN             0.0             NaN   \n",
       "min              NaN             1.0             NaN   \n",
       "25%              NaN             1.0             NaN   \n",
       "50%              NaN             1.0             NaN   \n",
       "75%              NaN             1.0             NaN   \n",
       "max              NaN             1.0             NaN   \n",
       "\n",
       "                                                  address      rating  \\\n",
       "count                                                 111  111.000000   \n",
       "unique                                                109         NaN   \n",
       "top     17000 S Main St, Gardena, CA 90248, United States         NaN   \n",
       "freq                                                    2         NaN   \n",
       "mean                                                  NaN    4.441441   \n",
       "std                                                   NaN    0.305545   \n",
       "min                                                   NaN    3.600000   \n",
       "25%                                                   NaN    4.200000   \n",
       "50%                                                   NaN    4.400000   \n",
       "75%                                                   NaN    4.700000   \n",
       "max                                                   NaN    5.000000   \n",
       "\n",
       "        price_level  review_count  \n",
       "count          97.0    111.000000  \n",
       "unique          NaN           NaN  \n",
       "top             NaN           NaN  \n",
       "freq            NaN           NaN  \n",
       "mean            2.0     39.441441  \n",
       "std             0.0     26.934832  \n",
       "min             2.0      2.000000  \n",
       "25%             2.0     22.500000  \n",
       "50%             2.0     34.000000  \n",
       "75%             2.0     51.500000  \n",
       "max             2.0    165.000000  "
      ]
     },
     "execution_count": 6,
     "metadata": {},
     "output_type": "execute_result"
    }
   ],
   "source": [
    "df.describe(include='all')"
   ]
  },
  {
   "cell_type": "code",
   "execution_count": 7,
   "metadata": {},
   "outputs": [
    {
     "data": {
      "text/html": [
       "<div>\n",
       "<style scoped>\n",
       "    .dataframe tbody tr th:only-of-type {\n",
       "        vertical-align: middle;\n",
       "    }\n",
       "\n",
       "    .dataframe tbody tr th {\n",
       "        vertical-align: top;\n",
       "    }\n",
       "\n",
       "    .dataframe thead th {\n",
       "        text-align: right;\n",
       "    }\n",
       "</style>\n",
       "<table border=\"1\" class=\"dataframe\">\n",
       "  <thead>\n",
       "    <tr style=\"text-align: right;\">\n",
       "      <th></th>\n",
       "      <th>locations</th>\n",
       "      <th>service_center</th>\n",
       "      <th>business_status</th>\n",
       "      <th>address</th>\n",
       "      <th>rating</th>\n",
       "      <th>price_level</th>\n",
       "      <th>review_count</th>\n",
       "    </tr>\n",
       "  </thead>\n",
       "  <tbody>\n",
       "    <tr>\n",
       "      <td>13</td>\n",
       "      <td>CA Ontario</td>\n",
       "      <td>NaN</td>\n",
       "      <td>OPERATIONAL</td>\n",
       "      <td>17000 S Main St, Gardena, CA 90248, United States</td>\n",
       "      <td>4.2</td>\n",
       "      <td>2.0</td>\n",
       "      <td>37</td>\n",
       "    </tr>\n",
       "    <tr>\n",
       "      <td>46</td>\n",
       "      <td>ME Scarborough</td>\n",
       "      <td>1.0</td>\n",
       "      <td>OPERATIONAL</td>\n",
       "      <td>17000 S Main St, Gardena, CA 90248, United States</td>\n",
       "      <td>4.2</td>\n",
       "      <td>2.0</td>\n",
       "      <td>37</td>\n",
       "    </tr>\n",
       "    <tr>\n",
       "      <td>97</td>\n",
       "      <td>TX Kilgore</td>\n",
       "      <td>NaN</td>\n",
       "      <td>OPERATIONAL</td>\n",
       "      <td>502 TX-135, Kilgore, TX 75662, United States</td>\n",
       "      <td>4.4</td>\n",
       "      <td>2.0</td>\n",
       "      <td>63</td>\n",
       "    </tr>\n",
       "    <tr>\n",
       "      <td>98</td>\n",
       "      <td>TX Longview</td>\n",
       "      <td>1.0</td>\n",
       "      <td>OPERATIONAL</td>\n",
       "      <td>502 TX-135, Kilgore, TX 75662, United States</td>\n",
       "      <td>4.4</td>\n",
       "      <td>2.0</td>\n",
       "      <td>63</td>\n",
       "    </tr>\n",
       "  </tbody>\n",
       "</table>\n",
       "</div>"
      ],
      "text/plain": [
       "         locations  service_center business_status  \\\n",
       "13      CA Ontario             NaN     OPERATIONAL   \n",
       "46  ME Scarborough             1.0     OPERATIONAL   \n",
       "97      TX Kilgore             NaN     OPERATIONAL   \n",
       "98     TX Longview             1.0     OPERATIONAL   \n",
       "\n",
       "                                              address  rating  price_level  \\\n",
       "13  17000 S Main St, Gardena, CA 90248, United States     4.2          2.0   \n",
       "46  17000 S Main St, Gardena, CA 90248, United States     4.2          2.0   \n",
       "97       502 TX-135, Kilgore, TX 75662, United States     4.4          2.0   \n",
       "98       502 TX-135, Kilgore, TX 75662, United States     4.4          2.0   \n",
       "\n",
       "    review_count  \n",
       "13            37  \n",
       "46            37  \n",
       "97            63  \n",
       "98            63  "
      ]
     },
     "execution_count": 7,
     "metadata": {},
     "output_type": "execute_result"
    }
   ],
   "source": [
    "#there were some duplicate addresses\n",
    "pd.concat(g for _, g in df.groupby(\"address\") if len(g) > 1)\n",
    "\n",
    "#looks like the scrapper or data cleaning process messed up 2 of these 4 entries.\n",
    "#Note: Longview has zero google reviews...which may have made it challenging for the API to pick up?"
   ]
  },
  {
   "cell_type": "markdown",
   "metadata": {},
   "source": [
    "### Corrected the two BAD data points and uploaded new data"
   ]
  },
  {
   "cell_type": "code",
   "execution_count": 8,
   "metadata": {},
   "outputs": [
    {
     "data": {
      "text/html": [
       "<div>\n",
       "<style scoped>\n",
       "    .dataframe tbody tr th:only-of-type {\n",
       "        vertical-align: middle;\n",
       "    }\n",
       "\n",
       "    .dataframe tbody tr th {\n",
       "        vertical-align: top;\n",
       "    }\n",
       "\n",
       "    .dataframe thead th {\n",
       "        text-align: right;\n",
       "    }\n",
       "</style>\n",
       "<table border=\"1\" class=\"dataframe\">\n",
       "  <thead>\n",
       "    <tr style=\"text-align: right;\">\n",
       "      <th></th>\n",
       "      <th>locations</th>\n",
       "      <th>service_center</th>\n",
       "      <th>business_status</th>\n",
       "      <th>address</th>\n",
       "      <th>rating</th>\n",
       "      <th>price_level</th>\n",
       "      <th>review_count</th>\n",
       "    </tr>\n",
       "  </thead>\n",
       "  <tbody>\n",
       "    <tr>\n",
       "      <td>count</td>\n",
       "      <td>111</td>\n",
       "      <td>55.0</td>\n",
       "      <td>111</td>\n",
       "      <td>111</td>\n",
       "      <td>110.000000</td>\n",
       "      <td>96.0</td>\n",
       "      <td>111.000000</td>\n",
       "    </tr>\n",
       "    <tr>\n",
       "      <td>unique</td>\n",
       "      <td>111</td>\n",
       "      <td>NaN</td>\n",
       "      <td>2</td>\n",
       "      <td>111</td>\n",
       "      <td>NaN</td>\n",
       "      <td>NaN</td>\n",
       "      <td>NaN</td>\n",
       "    </tr>\n",
       "    <tr>\n",
       "      <td>top</td>\n",
       "      <td>MN St. Cloud</td>\n",
       "      <td>NaN</td>\n",
       "      <td>OPERATIONAL</td>\n",
       "      <td>721 VT-78, Swanton, VT 05488, United States</td>\n",
       "      <td>NaN</td>\n",
       "      <td>NaN</td>\n",
       "      <td>NaN</td>\n",
       "    </tr>\n",
       "    <tr>\n",
       "      <td>freq</td>\n",
       "      <td>1</td>\n",
       "      <td>NaN</td>\n",
       "      <td>110</td>\n",
       "      <td>1</td>\n",
       "      <td>NaN</td>\n",
       "      <td>NaN</td>\n",
       "      <td>NaN</td>\n",
       "    </tr>\n",
       "    <tr>\n",
       "      <td>mean</td>\n",
       "      <td>NaN</td>\n",
       "      <td>1.0</td>\n",
       "      <td>NaN</td>\n",
       "      <td>NaN</td>\n",
       "      <td>4.443636</td>\n",
       "      <td>2.0</td>\n",
       "      <td>38.711712</td>\n",
       "    </tr>\n",
       "    <tr>\n",
       "      <td>std</td>\n",
       "      <td>NaN</td>\n",
       "      <td>0.0</td>\n",
       "      <td>NaN</td>\n",
       "      <td>NaN</td>\n",
       "      <td>0.306063</td>\n",
       "      <td>0.0</td>\n",
       "      <td>27.162269</td>\n",
       "    </tr>\n",
       "    <tr>\n",
       "      <td>min</td>\n",
       "      <td>NaN</td>\n",
       "      <td>1.0</td>\n",
       "      <td>NaN</td>\n",
       "      <td>NaN</td>\n",
       "      <td>3.600000</td>\n",
       "      <td>2.0</td>\n",
       "      <td>0.000000</td>\n",
       "    </tr>\n",
       "    <tr>\n",
       "      <td>25%</td>\n",
       "      <td>NaN</td>\n",
       "      <td>1.0</td>\n",
       "      <td>NaN</td>\n",
       "      <td>NaN</td>\n",
       "      <td>4.200000</td>\n",
       "      <td>2.0</td>\n",
       "      <td>22.000000</td>\n",
       "    </tr>\n",
       "    <tr>\n",
       "      <td>50%</td>\n",
       "      <td>NaN</td>\n",
       "      <td>1.0</td>\n",
       "      <td>NaN</td>\n",
       "      <td>NaN</td>\n",
       "      <td>4.450000</td>\n",
       "      <td>2.0</td>\n",
       "      <td>33.000000</td>\n",
       "    </tr>\n",
       "    <tr>\n",
       "      <td>75%</td>\n",
       "      <td>NaN</td>\n",
       "      <td>1.0</td>\n",
       "      <td>NaN</td>\n",
       "      <td>NaN</td>\n",
       "      <td>4.700000</td>\n",
       "      <td>2.0</td>\n",
       "      <td>51.000000</td>\n",
       "    </tr>\n",
       "    <tr>\n",
       "      <td>max</td>\n",
       "      <td>NaN</td>\n",
       "      <td>1.0</td>\n",
       "      <td>NaN</td>\n",
       "      <td>NaN</td>\n",
       "      <td>5.000000</td>\n",
       "      <td>2.0</td>\n",
       "      <td>165.000000</td>\n",
       "    </tr>\n",
       "  </tbody>\n",
       "</table>\n",
       "</div>"
      ],
      "text/plain": [
       "           locations  service_center business_status  \\\n",
       "count            111            55.0             111   \n",
       "unique           111             NaN               2   \n",
       "top     MN St. Cloud             NaN     OPERATIONAL   \n",
       "freq               1             NaN             110   \n",
       "mean             NaN             1.0             NaN   \n",
       "std              NaN             0.0             NaN   \n",
       "min              NaN             1.0             NaN   \n",
       "25%              NaN             1.0             NaN   \n",
       "50%              NaN             1.0             NaN   \n",
       "75%              NaN             1.0             NaN   \n",
       "max              NaN             1.0             NaN   \n",
       "\n",
       "                                            address      rating  price_level  \\\n",
       "count                                           111  110.000000         96.0   \n",
       "unique                                          111         NaN          NaN   \n",
       "top     721 VT-78, Swanton, VT 05488, United States         NaN          NaN   \n",
       "freq                                              1         NaN          NaN   \n",
       "mean                                            NaN    4.443636          2.0   \n",
       "std                                             NaN    0.306063          0.0   \n",
       "min                                             NaN    3.600000          2.0   \n",
       "25%                                             NaN    4.200000          2.0   \n",
       "50%                                             NaN    4.450000          2.0   \n",
       "75%                                             NaN    4.700000          2.0   \n",
       "max                                             NaN    5.000000          2.0   \n",
       "\n",
       "        review_count  \n",
       "count     111.000000  \n",
       "unique           NaN  \n",
       "top              NaN  \n",
       "freq             NaN  \n",
       "mean       38.711712  \n",
       "std        27.162269  \n",
       "min         0.000000  \n",
       "25%        22.000000  \n",
       "50%        33.000000  \n",
       "75%        51.000000  \n",
       "max       165.000000  "
      ]
     },
     "execution_count": 8,
     "metadata": {},
     "output_type": "execute_result"
    }
   ],
   "source": [
    "filepath = 'C:\\\\Users\\\\Belgau\\\\Desktop\\\\FP_dataset_v2.csv'\n",
    "df = pd.read_csv(filepath)\n",
    "df = df.iloc[: , 1:] #drop first col (numbered index from web scrap)\n",
    "df.describe(include='all')"
   ]
  },
  {
   "cell_type": "code",
   "execution_count": 9,
   "metadata": {},
   "outputs": [
    {
     "data": {
      "text/html": [
       "<div>\n",
       "<style scoped>\n",
       "    .dataframe tbody tr th:only-of-type {\n",
       "        vertical-align: middle;\n",
       "    }\n",
       "\n",
       "    .dataframe tbody tr th {\n",
       "        vertical-align: top;\n",
       "    }\n",
       "\n",
       "    .dataframe thead th {\n",
       "        text-align: right;\n",
       "    }\n",
       "</style>\n",
       "<table border=\"1\" class=\"dataframe\">\n",
       "  <thead>\n",
       "    <tr style=\"text-align: right;\">\n",
       "      <th></th>\n",
       "      <th>locations</th>\n",
       "      <th>service_center</th>\n",
       "      <th>business_status</th>\n",
       "      <th>address</th>\n",
       "      <th>rating</th>\n",
       "      <th>price_level</th>\n",
       "      <th>review_count</th>\n",
       "      <th>state</th>\n",
       "    </tr>\n",
       "  </thead>\n",
       "  <tbody>\n",
       "    <tr>\n",
       "      <td>0</td>\n",
       "      <td>Birmingham</td>\n",
       "      <td>1.0</td>\n",
       "      <td>OPERATIONAL</td>\n",
       "      <td>2403 21st St N, Birmingham, AL 35234, United S...</td>\n",
       "      <td>4.7</td>\n",
       "      <td>2.0</td>\n",
       "      <td>60</td>\n",
       "      <td>AL</td>\n",
       "    </tr>\n",
       "    <tr>\n",
       "      <td>1</td>\n",
       "      <td>Decatur</td>\n",
       "      <td>NaN</td>\n",
       "      <td>OPERATIONAL</td>\n",
       "      <td>1101 McEntire Ln NW, Decatur, AL 35601, United...</td>\n",
       "      <td>4.8</td>\n",
       "      <td>2.0</td>\n",
       "      <td>24</td>\n",
       "      <td>AL</td>\n",
       "    </tr>\n",
       "    <tr>\n",
       "      <td>2</td>\n",
       "      <td>Dothan</td>\n",
       "      <td>NaN</td>\n",
       "      <td>OPERATIONAL</td>\n",
       "      <td>2308 N Range St, Dothan, AL 36303, United States</td>\n",
       "      <td>4.8</td>\n",
       "      <td>2.0</td>\n",
       "      <td>28</td>\n",
       "      <td>AL</td>\n",
       "    </tr>\n",
       "    <tr>\n",
       "      <td>3</td>\n",
       "      <td>Mobile</td>\n",
       "      <td>1.0</td>\n",
       "      <td>OPERATIONAL</td>\n",
       "      <td>5245 Halls Mill Rd, Mobile, AL 36619, United S...</td>\n",
       "      <td>4.5</td>\n",
       "      <td>2.0</td>\n",
       "      <td>48</td>\n",
       "      <td>AL</td>\n",
       "    </tr>\n",
       "    <tr>\n",
       "      <td>4</td>\n",
       "      <td>Tuscaloosa</td>\n",
       "      <td>NaN</td>\n",
       "      <td>OPERATIONAL</td>\n",
       "      <td>5947 Old Montgomery Hwy, Tuscaloosa, AL 35405,...</td>\n",
       "      <td>4.7</td>\n",
       "      <td>2.0</td>\n",
       "      <td>26</td>\n",
       "      <td>AL</td>\n",
       "    </tr>\n",
       "  </tbody>\n",
       "</table>\n",
       "</div>"
      ],
      "text/plain": [
       "    locations  service_center business_status  \\\n",
       "0  Birmingham             1.0     OPERATIONAL   \n",
       "1     Decatur             NaN     OPERATIONAL   \n",
       "2      Dothan             NaN     OPERATIONAL   \n",
       "3      Mobile             1.0     OPERATIONAL   \n",
       "4  Tuscaloosa             NaN     OPERATIONAL   \n",
       "\n",
       "                                             address  rating  price_level  \\\n",
       "0  2403 21st St N, Birmingham, AL 35234, United S...     4.7          2.0   \n",
       "1  1101 McEntire Ln NW, Decatur, AL 35601, United...     4.8          2.0   \n",
       "2   2308 N Range St, Dothan, AL 36303, United States     4.8          2.0   \n",
       "3  5245 Halls Mill Rd, Mobile, AL 36619, United S...     4.5          2.0   \n",
       "4  5947 Old Montgomery Hwy, Tuscaloosa, AL 35405,...     4.7          2.0   \n",
       "\n",
       "   review_count state  \n",
       "0            60    AL  \n",
       "1            24    AL  \n",
       "2            28    AL  \n",
       "3            48    AL  \n",
       "4            26    AL  "
      ]
     },
     "execution_count": 9,
     "metadata": {},
     "output_type": "execute_result"
    }
   ],
   "source": [
    "#separate state from location\n",
    "df['state'] = df['locations'].str[:2]\n",
    "df['locations'] = df['locations'].str[3:]\n",
    "df.head()"
   ]
  },
  {
   "cell_type": "markdown",
   "metadata": {},
   "source": [
    "### Dealing with missing and null values"
   ]
  },
  {
   "cell_type": "code",
   "execution_count": 131,
   "metadata": {},
   "outputs": [
    {
     "data": {
      "text/plain": [
       "((110, 8), (109, 8))"
      ]
     },
     "execution_count": 131,
     "metadata": {},
     "output_type": "execute_result"
    }
   ],
   "source": [
    "#remove BLANKS and NULLS for plotting 'rating' vs 'review_count'\n",
    "df_noblanks = df.replace(\"\", \"NaN\")\n",
    "df_noblanks.dropna(subset = ['rating', 'review_count'], inplace=True) #Drop NULLS\n",
    "df.shape, df_noblanks.shape #one row was removed\n",
    "\n",
    "#df[df.locations.str.contains('longview',case=False)] #this row was longview, as no longer in df"
   ]
  },
  {
   "cell_type": "markdown",
   "metadata": {},
   "source": [
    "### Is price_level (number of dollar signs) worth keeping in the dataset?"
   ]
  },
  {
   "cell_type": "code",
   "execution_count": 10,
   "metadata": {},
   "outputs": [
    {
     "data": {
      "text/plain": [
       "(          locations  review_count\n",
       " 5            Conway            54\n",
       " 6       Little Rock            14\n",
       " 8         Texarkana            74\n",
       " 24        Ellenwood            59\n",
       " 25         Valdosta            59\n",
       " 31         Rockford             5\n",
       " 32      Clarksville            46\n",
       " 73  Pleasant Valley             2\n",
       " 78     Steubenville            94\n",
       " 80      Weatherford            96\n",
       " 81         Carlisle             9\n",
       " 82       Harrisburg             3\n",
       " 84             York             8\n",
       " 98         Longview             0\n",
       " 99         Seminole             8, 15)"
      ]
     },
     "execution_count": 10,
     "metadata": {},
     "output_type": "execute_result"
    }
   ],
   "source": [
    "#all locations that hv price_level entries are 2$$, but some are empty\n",
    "locs_noprice = df[df['price_level'].isnull()]\n",
    "locs_noprice[['locations','review_count']], len(locs_noprice)\n",
    "#15 null entries\n",
    "\n",
    "#incomplete analysis\n",
    "#need to see relationship between number of dollar signs and reviews"
   ]
  },
  {
   "cell_type": "code",
   "execution_count": 78,
   "metadata": {},
   "outputs": [],
   "source": [
    "#Group by null entries and compare"
   ]
  },
  {
   "cell_type": "markdown",
   "metadata": {},
   "source": [
    "### Remove locations no longer in operation"
   ]
  },
  {
   "cell_type": "code",
   "execution_count": 132,
   "metadata": {},
   "outputs": [
    {
     "data": {
      "text/html": [
       "<div>\n",
       "<style scoped>\n",
       "    .dataframe tbody tr th:only-of-type {\n",
       "        vertical-align: middle;\n",
       "    }\n",
       "\n",
       "    .dataframe tbody tr th {\n",
       "        vertical-align: top;\n",
       "    }\n",
       "\n",
       "    .dataframe thead th {\n",
       "        text-align: right;\n",
       "    }\n",
       "</style>\n",
       "<table border=\"1\" class=\"dataframe\">\n",
       "  <thead>\n",
       "    <tr style=\"text-align: right;\">\n",
       "      <th></th>\n",
       "      <th>locations</th>\n",
       "      <th>service_center</th>\n",
       "      <th>business_status</th>\n",
       "      <th>address</th>\n",
       "      <th>rating</th>\n",
       "      <th>price_level</th>\n",
       "      <th>review_count</th>\n",
       "      <th>state</th>\n",
       "    </tr>\n",
       "  </thead>\n",
       "  <tbody>\n",
       "  </tbody>\n",
       "</table>\n",
       "</div>"
      ],
      "text/plain": [
       "Empty DataFrame\n",
       "Columns: [locations, service_center, business_status, address, rating, price_level, review_count, state]\n",
       "Index: []"
      ]
     },
     "execution_count": 132,
     "metadata": {},
     "output_type": "execute_result"
    }
   ],
   "source": [
    "df[df.business_status.str.contains('OPERATIONAL')== False]"
   ]
  },
  {
   "cell_type": "code",
   "execution_count": 133,
   "metadata": {},
   "outputs": [
    {
     "data": {
      "text/plain": [
       "(110, 8)"
      ]
     },
     "execution_count": 133,
     "metadata": {},
     "output_type": "execute_result"
    }
   ],
   "source": [
    "df = df[df.business_status.str.contains('OPERATIONAL')== True]\n",
    "df.shape\n",
    "#Drop Milford from dataset"
   ]
  },
  {
   "cell_type": "markdown",
   "metadata": {},
   "source": [
    "### Examine Distributions & Correlations"
   ]
  },
  {
   "cell_type": "code",
   "execution_count": 135,
   "metadata": {},
   "outputs": [
    {
     "data": {
      "image/png": "[encoded data removed]",
      "text/plain": [
       "<Figure size 432x288 with 2 Axes>"
      ]
     },
     "metadata": {
      "needs_background": "light"
     },
     "output_type": "display_data"
    }
   ],
   "source": [
    "corrMatrix = df.corr() #find corr of all var relationships (only works with float and int64 dtypes)\n",
    "sns.heatmap(corrMatrix, annot=True, cmap=plt.cm.Reds) #-1 is weak, 1 is strong\n",
    "plt.show()\n",
    "\n",
    "#weak corr between rating & review_count"
   ]
  },
  {
   "cell_type": "code",
   "execution_count": 209,
   "metadata": {},
   "outputs": [
    {
     "name": "stderr",
     "output_type": "stream",
     "text": [
      "C:\\ProgramData\\Anaconda3\\lib\\site-packages\\numpy\\lib\\histograms.py:824: RuntimeWarning: invalid value encountered in greater_equal\n",
      "  keep = (tmp_a >= first_edge)\n",
      "C:\\ProgramData\\Anaconda3\\lib\\site-packages\\numpy\\lib\\histograms.py:825: RuntimeWarning: invalid value encountered in less_equal\n",
      "  keep &= (tmp_a <= last_edge)\n",
      "C:\\ProgramData\\Anaconda3\\lib\\site-packages\\statsmodels\\nonparametric\\kde.py:447: RuntimeWarning: invalid value encountered in greater\n",
      "  X = X[np.logical_and(X > clip[0], X < clip[1])] # won't work for two columns.\n",
      "C:\\ProgramData\\Anaconda3\\lib\\site-packages\\statsmodels\\nonparametric\\kde.py:447: RuntimeWarning: invalid value encountered in less\n",
      "  X = X[np.logical_and(X > clip[0], X < clip[1])] # won't work for two columns.\n"
     ]
    },
    {
     "data": {
      "text/plain": [
       "[Text(0.5, 1, 'Box Plot: Rating')]"
      ]
     },
     "execution_count": 209,
     "metadata": {},
     "output_type": "execute_result"
    },
    {
     "data": {
      "image/png": "[encoded data removed]",
      "text/plain": [
       "<Figure size 1080x432 with 4 Axes>"
      ]
     },
     "metadata": {
      "needs_background": "light"
     },
     "output_type": "display_data"
    }
   ],
   "source": [
    "# How do the distributions look?\n",
    "fig, axes = plt.subplots(2, 2, figsize=(15,6))\n",
    "plt.tight_layout(pad=3.0)\n",
    "\n",
    "sns.distplot(df['rating'], bins=25, ax=axes[0,0]).set(title='Histogram: Rating',xlabel='')\n",
    "sns.distplot( df['review_count'],  bins=25, ax=axes[0,1]).set(title='Histogram: Review Count',xlabel='')\n",
    "\n",
    "sns.boxplot(ax=axes[1,0], data=df['review_count'], orient=\"h\").set(title='Box Plot: Review Count')\n",
    "sns.boxplot(ax=axes[1,1], data=df['rating'], orient=\"h\").set(title='Box Plot: Rating')\n",
    "\n",
    "#min, max, median, IQR\n",
    "#some outliers potentially"
   ]
  },
  {
   "cell_type": "code",
   "execution_count": 140,
   "metadata": {},
   "outputs": [
    {
     "data": {
      "text/plain": [
       "<matplotlib.axes._subplots.AxesSubplot at 0x1f913ff8448>"
      ]
     },
     "execution_count": 140,
     "metadata": {},
     "output_type": "execute_result"
    },
    {
     "data": {
      "image/png": "[encoded data removed]",
      "text/plain": [
       "<Figure size 432x288 with 1 Axes>"
      ]
     },
     "metadata": {
      "needs_background": "light"
     },
     "output_type": "display_data"
    }
   ],
   "source": [
    "sns.scatterplot(x='rating', y='review_count', data=df)\n",
    "#there might be an interesting relationship here\n",
    "#use spline to smooth this out, but need unique x-axis values in array format\n",
    "#create an average value for each unique 'rating'"
   ]
  },
  {
   "cell_type": "code",
   "execution_count": 141,
   "metadata": {},
   "outputs": [
    {
     "data": {
      "text/html": [
       "<div>\n",
       "<style scoped>\n",
       "    .dataframe tbody tr th:only-of-type {\n",
       "        vertical-align: middle;\n",
       "    }\n",
       "\n",
       "    .dataframe tbody tr th {\n",
       "        vertical-align: top;\n",
       "    }\n",
       "\n",
       "    .dataframe thead th {\n",
       "        text-align: right;\n",
       "    }\n",
       "</style>\n",
       "<table border=\"1\" class=\"dataframe\">\n",
       "  <thead>\n",
       "    <tr style=\"text-align: right;\">\n",
       "      <th></th>\n",
       "      <th>locations</th>\n",
       "      <th>service_center</th>\n",
       "      <th>business_status</th>\n",
       "      <th>address</th>\n",
       "      <th>rating</th>\n",
       "      <th>price_level</th>\n",
       "      <th>review_count</th>\n",
       "      <th>state</th>\n",
       "    </tr>\n",
       "  </thead>\n",
       "  <tbody>\n",
       "    <tr>\n",
       "      <td>22</td>\n",
       "      <td>Tampa</td>\n",
       "      <td>1.0</td>\n",
       "      <td>OPERATIONAL</td>\n",
       "      <td>3517 N 40th St, Tampa, FL 33605, United States</td>\n",
       "      <td>4.3</td>\n",
       "      <td>2.0</td>\n",
       "      <td>165</td>\n",
       "      <td>FL</td>\n",
       "    </tr>\n",
       "    <tr>\n",
       "      <td>9</td>\n",
       "      <td>Phoenix</td>\n",
       "      <td>0.0</td>\n",
       "      <td>OPERATIONAL</td>\n",
       "      <td>1801 N Black Canyon Hwy, Phoenix, AZ 85009, Un...</td>\n",
       "      <td>4.4</td>\n",
       "      <td>2.0</td>\n",
       "      <td>145</td>\n",
       "      <td>AZ</td>\n",
       "    </tr>\n",
       "  </tbody>\n",
       "</table>\n",
       "</div>"
      ],
      "text/plain": [
       "   locations  service_center business_status  \\\n",
       "22     Tampa             1.0     OPERATIONAL   \n",
       "9    Phoenix             0.0     OPERATIONAL   \n",
       "\n",
       "                                              address  rating  price_level  \\\n",
       "22     3517 N 40th St, Tampa, FL 33605, United States     4.3          2.0   \n",
       "9   1801 N Black Canyon Hwy, Phoenix, AZ 85009, Un...     4.4          2.0   \n",
       "\n",
       "    review_count state  \n",
       "22           165    FL  \n",
       "9            145    AZ  "
      ]
     },
     "execution_count": 141,
     "metadata": {},
     "output_type": "execute_result"
    }
   ],
   "source": [
    "# What stores are top two for review_count?\n",
    "# they appear to be performing well\n",
    "df.sort_values(['review_count'], ascending=False, inplace=False).head(2)"
   ]
  },
  {
   "cell_type": "code",
   "execution_count": 142,
   "metadata": {},
   "outputs": [
    {
     "data": {
      "text/plain": [
       "(38.93636363636364, 4.445871559633027)"
      ]
     },
     "execution_count": 142,
     "metadata": {},
     "output_type": "execute_result"
    }
   ],
   "source": [
    "# How do these locations compare to the set?\n",
    "df['review_count'].mean(), df['rating'].mean()\n",
    "\n",
    "#rating a bit lower, but within reasonable margin (not likely to be underperforming)"
   ]
  },
  {
   "cell_type": "code",
   "execution_count": 128,
   "metadata": {},
   "outputs": [
    {
     "data": {
      "text/html": [
       "<div>\n",
       "<style scoped>\n",
       "    .dataframe tbody tr th:only-of-type {\n",
       "        vertical-align: middle;\n",
       "    }\n",
       "\n",
       "    .dataframe tbody tr th {\n",
       "        vertical-align: top;\n",
       "    }\n",
       "\n",
       "    .dataframe thead th {\n",
       "        text-align: right;\n",
       "    }\n",
       "</style>\n",
       "<table border=\"1\" class=\"dataframe\">\n",
       "  <thead>\n",
       "    <tr style=\"text-align: right;\">\n",
       "      <th></th>\n",
       "      <th>rating</th>\n",
       "      <th>review_count</th>\n",
       "    </tr>\n",
       "  </thead>\n",
       "  <tbody>\n",
       "    <tr>\n",
       "      <td>0</td>\n",
       "      <td>3.6</td>\n",
       "      <td>11.500000</td>\n",
       "    </tr>\n",
       "    <tr>\n",
       "      <td>1</td>\n",
       "      <td>3.7</td>\n",
       "      <td>11.500000</td>\n",
       "    </tr>\n",
       "    <tr>\n",
       "      <td>2</td>\n",
       "      <td>3.9</td>\n",
       "      <td>35.500000</td>\n",
       "    </tr>\n",
       "    <tr>\n",
       "      <td>3</td>\n",
       "      <td>4.0</td>\n",
       "      <td>46.250000</td>\n",
       "    </tr>\n",
       "    <tr>\n",
       "      <td>4</td>\n",
       "      <td>4.1</td>\n",
       "      <td>29.714286</td>\n",
       "    </tr>\n",
       "    <tr>\n",
       "      <td>5</td>\n",
       "      <td>4.2</td>\n",
       "      <td>43.500000</td>\n",
       "    </tr>\n",
       "    <tr>\n",
       "      <td>6</td>\n",
       "      <td>4.3</td>\n",
       "      <td>67.142857</td>\n",
       "    </tr>\n",
       "    <tr>\n",
       "      <td>7</td>\n",
       "      <td>4.4</td>\n",
       "      <td>53.000000</td>\n",
       "    </tr>\n",
       "    <tr>\n",
       "      <td>8</td>\n",
       "      <td>4.5</td>\n",
       "      <td>47.076923</td>\n",
       "    </tr>\n",
       "    <tr>\n",
       "      <td>9</td>\n",
       "      <td>4.6</td>\n",
       "      <td>35.333333</td>\n",
       "    </tr>\n",
       "    <tr>\n",
       "      <td>10</td>\n",
       "      <td>4.7</td>\n",
       "      <td>33.818182</td>\n",
       "    </tr>\n",
       "    <tr>\n",
       "      <td>11</td>\n",
       "      <td>4.8</td>\n",
       "      <td>28.545455</td>\n",
       "    </tr>\n",
       "    <tr>\n",
       "      <td>12</td>\n",
       "      <td>4.9</td>\n",
       "      <td>17.000000</td>\n",
       "    </tr>\n",
       "    <tr>\n",
       "      <td>13</td>\n",
       "      <td>5.0</td>\n",
       "      <td>9.250000</td>\n",
       "    </tr>\n",
       "  </tbody>\n",
       "</table>\n",
       "</div>"
      ],
      "text/plain": [
       "    rating  review_count\n",
       "0      3.6     11.500000\n",
       "1      3.7     11.500000\n",
       "2      3.9     35.500000\n",
       "3      4.0     46.250000\n",
       "4      4.1     29.714286\n",
       "5      4.2     43.500000\n",
       "6      4.3     67.142857\n",
       "7      4.4     53.000000\n",
       "8      4.5     47.076923\n",
       "9      4.6     35.333333\n",
       "10     4.7     33.818182\n",
       "11     4.8     28.545455\n",
       "12     4.9     17.000000\n",
       "13     5.0      9.250000"
      ]
     },
     "execution_count": 128,
     "metadata": {},
     "output_type": "execute_result"
    }
   ],
   "source": [
    "#there might be an interesting relationship here\n",
    "#spline needs unique x values as an array\n",
    "#aggregate avg function by rating\n",
    "\n",
    "df2 = df.groupby(['rating']).mean()\n",
    "df2.reset_index(level=0, inplace=True) #turn rating index into a new col\n",
    "df2[['rating','review_count']]\n"
   ]
  },
  {
   "cell_type": "code",
   "execution_count": 143,
   "metadata": {},
   "outputs": [
    {
     "data": {
      "text/plain": [
       "Text(0, 0.5, 'review_count')"
      ]
     },
     "execution_count": 143,
     "metadata": {},
     "output_type": "execute_result"
    },
    {
     "data": {
      "image/png": "[encoded data removed]",
      "text/plain": [
       "<Figure size 432x288 with 1 Axes>"
      ]
     },
     "metadata": {
      "needs_background": "light"
     },
     "output_type": "display_data"
    }
   ],
   "source": [
    "sns.scatterplot(x='rating', y='review_count', data=df)\n",
    "\n",
    "from scipy.interpolate._bsplines import make_interp_spline\n",
    "\n",
    "x = df2['rating'].to_numpy()\n",
    "y = df2['review_count'].astype(float).to_numpy()\n",
    "\n",
    "X_Y_Spline = make_interp_spline(x, y)\n",
    " \n",
    "# Returns evenly spaced numbers over a specified interval.\n",
    "X_ = np.linspace(x.min(), x.max(), 35)\n",
    "Y_ = X_Y_Spline(X_)\n",
    "\n",
    "sns.lineplot(x=X_, y=Y_)\n",
    "\n",
    "plt.title(\"Review_Count vs. Rating\")\n",
    "plt.xlabel(\"rating\")\n",
    "plt.ylabel(\"review_count\")"
   ]
  },
  {
   "cell_type": "code",
   "execution_count": 152,
   "metadata": {},
   "outputs": [
    {
     "data": {
      "text/html": [
       "<div>\n",
       "<style scoped>\n",
       "    .dataframe tbody tr th:only-of-type {\n",
       "        vertical-align: middle;\n",
       "    }\n",
       "\n",
       "    .dataframe tbody tr th {\n",
       "        vertical-align: top;\n",
       "    }\n",
       "\n",
       "    .dataframe thead th {\n",
       "        text-align: right;\n",
       "    }\n",
       "</style>\n",
       "<table border=\"1\" class=\"dataframe\">\n",
       "  <thead>\n",
       "    <tr style=\"text-align: right;\">\n",
       "      <th></th>\n",
       "      <th>locations</th>\n",
       "      <th>service_center</th>\n",
       "      <th>business_status</th>\n",
       "      <th>address</th>\n",
       "      <th>rating</th>\n",
       "      <th>price_level</th>\n",
       "      <th>review_count</th>\n",
       "      <th>state</th>\n",
       "    </tr>\n",
       "  </thead>\n",
       "  <tbody>\n",
       "    <tr>\n",
       "      <td>29</td>\n",
       "      <td>Mokena</td>\n",
       "      <td>1.0</td>\n",
       "      <td>OPERATIONAL</td>\n",
       "      <td>19622 97th Ave, Mokena, IL 60448, United States</td>\n",
       "      <td>4.0</td>\n",
       "      <td>2.0</td>\n",
       "      <td>51</td>\n",
       "      <td>IL</td>\n",
       "    </tr>\n",
       "    <tr>\n",
       "      <td>93</td>\n",
       "      <td>Corpus Christi</td>\n",
       "      <td>1.0</td>\n",
       "      <td>OPERATIONAL</td>\n",
       "      <td>7749, # Ih-37, Corpus Christi, TX 78409, Unite...</td>\n",
       "      <td>4.0</td>\n",
       "      <td>2.0</td>\n",
       "      <td>72</td>\n",
       "      <td>TX</td>\n",
       "    </tr>\n",
       "  </tbody>\n",
       "</table>\n",
       "</div>"
      ],
      "text/plain": [
       "         locations  service_center business_status  \\\n",
       "29          Mokena             1.0     OPERATIONAL   \n",
       "93  Corpus Christi             1.0     OPERATIONAL   \n",
       "\n",
       "                                              address  rating  price_level  \\\n",
       "29    19622 97th Ave, Mokena, IL 60448, United States     4.0          2.0   \n",
       "93  7749, # Ih-37, Corpus Christi, TX 78409, Unite...     4.0          2.0   \n",
       "\n",
       "    review_count state  \n",
       "29            51    IL  \n",
       "93            72    TX  "
      ]
     },
     "execution_count": 152,
     "metadata": {},
     "output_type": "execute_result"
    }
   ],
   "source": [
    "# if we could dig into the individual reviews data (not allowed by API)...\n",
    "# we probably have a handful of bad reviews lowering this group from 4.3 to =~4\n",
    "# what locations are part of that first hump?\n",
    "\n",
    "df.loc[(df['rating'] == 4) & (df['review_count'] > 40)]\n",
    "\n",
    "#these locations need some attention... need more data to see why they have higher review count, yet low rating.\n"
   ]
  },
  {
   "cell_type": "code",
   "execution_count": null,
   "metadata": {},
   "outputs": [],
   "source": [
    "# Next step...\n",
    "# can we fit an equation to this spline curve?\n",
    "# this will help show which stores are performing above/below average.\n",
    "    # can develop significance test, to show meaningful deviations away from this relationship"
   ]
  },
  {
   "cell_type": "markdown",
   "metadata": {},
   "source": [
    "### Group By State"
   ]
  },
  {
   "cell_type": "code",
   "execution_count": 211,
   "metadata": {},
   "outputs": [
    {
     "data": {
      "text/html": [
       "<div>\n",
       "<style scoped>\n",
       "    .dataframe tbody tr th:only-of-type {\n",
       "        vertical-align: middle;\n",
       "    }\n",
       "\n",
       "    .dataframe tbody tr th {\n",
       "        vertical-align: top;\n",
       "    }\n",
       "\n",
       "    .dataframe thead th {\n",
       "        text-align: right;\n",
       "    }\n",
       "</style>\n",
       "<table border=\"1\" class=\"dataframe\">\n",
       "  <thead>\n",
       "    <tr style=\"text-align: right;\">\n",
       "      <th></th>\n",
       "      <th>state</th>\n",
       "      <th>num_of_servicecenters</th>\n",
       "      <th>review_count</th>\n",
       "      <th>num_of_locs</th>\n",
       "      <th>reviews_per_loc</th>\n",
       "      <th>avg_rating_loc_weighted</th>\n",
       "      <th>percent_servicecenter</th>\n",
       "    </tr>\n",
       "  </thead>\n",
       "  <tbody>\n",
       "    <tr>\n",
       "      <td>0</td>\n",
       "      <td>AL</td>\n",
       "      <td>2.0</td>\n",
       "      <td>186</td>\n",
       "      <td>5</td>\n",
       "      <td>37.2</td>\n",
       "      <td>4.700</td>\n",
       "      <td>40.0</td>\n",
       "    </tr>\n",
       "    <tr>\n",
       "      <td>1</td>\n",
       "      <td>AR</td>\n",
       "      <td>3.0</td>\n",
       "      <td>174</td>\n",
       "      <td>4</td>\n",
       "      <td>43.5</td>\n",
       "      <td>4.300</td>\n",
       "      <td>75.0</td>\n",
       "    </tr>\n",
       "    <tr>\n",
       "      <td>2</td>\n",
       "      <td>AZ</td>\n",
       "      <td>0.0</td>\n",
       "      <td>180</td>\n",
       "      <td>2</td>\n",
       "      <td>90.0</td>\n",
       "      <td>4.450</td>\n",
       "      <td>0.0</td>\n",
       "    </tr>\n",
       "    <tr>\n",
       "      <td>3</td>\n",
       "      <td>CA</td>\n",
       "      <td>0.0</td>\n",
       "      <td>104</td>\n",
       "      <td>4</td>\n",
       "      <td>26.0</td>\n",
       "      <td>4.275</td>\n",
       "      <td>0.0</td>\n",
       "    </tr>\n",
       "    <tr>\n",
       "      <td>4</td>\n",
       "      <td>CT</td>\n",
       "      <td>0.0</td>\n",
       "      <td>75</td>\n",
       "      <td>3</td>\n",
       "      <td>25.0</td>\n",
       "      <td>4.200</td>\n",
       "      <td>0.0</td>\n",
       "    </tr>\n",
       "  </tbody>\n",
       "</table>\n",
       "</div>"
      ],
      "text/plain": [
       "  state  num_of_servicecenters  review_count  num_of_locs  reviews_per_loc  \\\n",
       "0    AL                    2.0           186            5             37.2   \n",
       "1    AR                    3.0           174            4             43.5   \n",
       "2    AZ                    0.0           180            2             90.0   \n",
       "3    CA                    0.0           104            4             26.0   \n",
       "4    CT                    0.0            75            3             25.0   \n",
       "\n",
       "   avg_rating_loc_weighted  percent_servicecenter  \n",
       "0                    4.700                   40.0  \n",
       "1                    4.300                   75.0  \n",
       "2                    4.450                    0.0  \n",
       "3                    4.275                    0.0  \n",
       "4                    4.200                    0.0  "
      ]
     },
     "execution_count": 211,
     "metadata": {},
     "output_type": "execute_result"
    }
   ],
   "source": [
    "#aggregate functions by state\n",
    "df_state_loccount = df.groupby(['state']).size() #finds how many locations in ea state\n",
    "df_state = df.groupby(['state']).sum()\n",
    "\n",
    "df_state = pd.concat([df_state,df_state_loccount], 1)\n",
    "\n",
    "#formatting\n",
    "df_state.drop(['price_level'], 1, inplace=True) \n",
    "df_state.rename(columns={df_state.columns[3]: \"num_of_locs\"}, inplace = True)\n",
    "df_state.rename(columns={'service_center': \"num_of_servicecenters\"}, inplace = True)\n",
    "df_state.reset_index(level=0, inplace=True) #turn state index into a new col\n",
    "\n",
    "#additional metrics\n",
    "df_state['reviews_per_loc'] = df_state['review_count'] / df_state['num_of_locs']\n",
    "df_state['avg_rating_loc_weighted'] = df_state['rating'] / df_state['num_of_locs'] #does not account for total reviews\n",
    "df_state.drop(['rating'], 1, inplace=True)\n",
    "df_state['percent_servicecenter'] = df_state['num_of_servicecenters'] / df_state['num_of_locs'] *100\n",
    "\n",
    "df_state.head()"
   ]
  },
  {
   "cell_type": "code",
   "execution_count": 70,
   "metadata": {},
   "outputs": [
    {
     "data": {
      "text/plain": [
       "[Text(0.5, 1.0, 'Reviews Per Location by State')]"
      ]
     },
     "execution_count": 70,
     "metadata": {},
     "output_type": "execute_result"
    },
    {
     "data": {
      "image/png": "[encoded data removed]",
      "text/plain": [
       "<Figure size 1080x216 with 1 Axes>"
      ]
     },
     "metadata": {
      "needs_background": "light"
     },
     "output_type": "display_data"
    }
   ],
   "source": [
    "#sorting\n",
    "df_state.sort_values(['reviews_per_loc'], ascending=False, inplace=True)\n",
    "plt.gcf().set_size_inches(15, 3)\n",
    "sns.barplot(x='state', y='reviews_per_loc', data=df_state).set(title='Reviews Per Location by State')\n",
    "\n",
    "#these states might have the highest sales, assuming there's a relationship to reviews"
   ]
  },
  {
   "cell_type": "code",
   "execution_count": 71,
   "metadata": {},
   "outputs": [
    {
     "data": {
      "text/plain": [
       "[Text(0.5, 1.0, 'Number of Locations by State')]"
      ]
     },
     "execution_count": 71,
     "metadata": {},
     "output_type": "execute_result"
    },
    {
     "data": {
      "image/png": "[encoded data removed]",
      "text/plain": [
       "<Figure size 1080x216 with 1 Axes>"
      ]
     },
     "metadata": {
      "needs_background": "light"
     },
     "output_type": "display_data"
    }
   ],
   "source": [
    "#sorting\n",
    "df_state.sort_values(['num_of_locs'], ascending=False, inplace=True)\n",
    "plt.gcf().set_size_inches(15, 3)\n",
    "sns.barplot(x='state', y='num_of_locs', data=df_state).set(title='Number of Locations by State')"
   ]
  },
  {
   "cell_type": "code",
   "execution_count": 223,
   "metadata": {},
   "outputs": [
    {
     "data": {
      "text/html": [
       "<div>\n",
       "<style scoped>\n",
       "    .dataframe tbody tr th:only-of-type {\n",
       "        vertical-align: middle;\n",
       "    }\n",
       "\n",
       "    .dataframe tbody tr th {\n",
       "        vertical-align: top;\n",
       "    }\n",
       "\n",
       "    .dataframe thead th {\n",
       "        text-align: right;\n",
       "    }\n",
       "</style>\n",
       "<table border=\"1\" class=\"dataframe\">\n",
       "  <thead>\n",
       "    <tr style=\"text-align: right;\">\n",
       "      <th></th>\n",
       "      <th>locations</th>\n",
       "      <th>service_center</th>\n",
       "      <th>business_status</th>\n",
       "      <th>address</th>\n",
       "      <th>rating</th>\n",
       "      <th>price_level</th>\n",
       "      <th>review_count</th>\n",
       "      <th>state</th>\n",
       "    </tr>\n",
       "  </thead>\n",
       "  <tbody>\n",
       "    <tr>\n",
       "      <td>73</td>\n",
       "      <td>Pleasant Valley</td>\n",
       "      <td>1.0</td>\n",
       "      <td>OPERATIONAL</td>\n",
       "      <td>1931 US-44, Pleasant Valley, NY 12569, United ...</td>\n",
       "      <td>5.0</td>\n",
       "      <td>NaN</td>\n",
       "      <td>2</td>\n",
       "      <td>NY</td>\n",
       "    </tr>\n",
       "  </tbody>\n",
       "</table>\n",
       "</div>"
      ],
      "text/plain": [
       "          locations  service_center business_status  \\\n",
       "73  Pleasant Valley             1.0     OPERATIONAL   \n",
       "\n",
       "                                              address  rating  price_level  \\\n",
       "73  1931 US-44, Pleasant Valley, NY 12569, United ...     5.0          NaN   \n",
       "\n",
       "    review_count state  \n",
       "73             2    NY  "
      ]
     },
     "execution_count": 223,
     "metadata": {},
     "output_type": "execute_result"
    }
   ],
   "source": [
    "#why does NY have so many locations but low review/loc ratio (low num of reviews)?\n",
    "df_NY = df[df['state'].str.contains('NY')]\n",
    "df_NY.loc[(df_NY['locations'] == 'Pleasant Valley')]\n",
    "\n",
    "#maybe it's being brought down by the Pleasant Valley location?"
   ]
  },
  {
   "cell_type": "code",
   "execution_count": 224,
   "metadata": {},
   "outputs": [
    {
     "name": "stdout",
     "output_type": "stream",
     "text": [
      "tot_review_avg: 38.93636363636364\n",
      "NY_review_avg: 29.666666666666668\n"
     ]
    }
   ],
   "source": [
    "#How does each location's review_count compare to the average?\n",
    "review_count_mean = df['review_count'].mean()\n",
    "review_count_NY = df_NY['review_count'].mean()\n",
    "print('tot_review_avg: ' + str(review_count_mean) +'\\nNY_review_avg: ' + str(review_count_NY))"
   ]
  },
  {
   "cell_type": "code",
   "execution_count": 225,
   "metadata": {},
   "outputs": [
    {
     "name": "stdout",
     "output_type": "stream",
     "text": [
      "tot_review_avg: 38.93636363636364\n",
      "NY_review_avg: 33.125\n"
     ]
    }
   ],
   "source": [
    "df_NY = df_NY[df_NY[\"locations\"].str.contains(\"Pleasant Valley\")==False]\n",
    "#How does each location's review_count compare to the average?\n",
    "review_count_mean = df['review_count'].mean()\n",
    "review_count_NY = df_NY['review_count'].mean()\n",
    "print('tot_review_avg: ' + str(review_count_mean) +'\\nNY_review_avg: ' + str(review_count_NY))\n",
    "\n",
    "#NY review/loc metric goes up when remove Pleasant Valley but still significantly below mean\n",
    "#maybe the number of service centers is correlated to review count?"
   ]
  },
  {
   "cell_type": "code",
   "execution_count": 34,
   "metadata": {},
   "outputs": [
    {
     "data": {
      "text/plain": [
       "[Text(0.5, 1.0, 'Service Centers by State')]"
      ]
     },
     "execution_count": 34,
     "metadata": {},
     "output_type": "execute_result"
    },
    {
     "data": {
      "image/png": "[encoded data removed]",
      "text/plain": [
       "<Figure size 1080x216 with 1 Axes>"
      ]
     },
     "metadata": {
      "needs_background": "light"
     },
     "output_type": "display_data"
    }
   ],
   "source": [
    "#Service Centers by State\n",
    "df_state.sort_values(['num_of_servicecenters'], ascending=False, inplace=True)\n",
    "\n",
    "plt.gcf().set_size_inches(15, 3)\n",
    "sns.barplot(x='state', y='num_of_servicecenters', data=df_state).set(title='Service Centers by State')"
   ]
  },
  {
   "cell_type": "code",
   "execution_count": 75,
   "metadata": {},
   "outputs": [
    {
     "data": {
      "text/plain": [
       "[Text(0.5, 1.0, 'Service Center Percentage by State')]"
      ]
     },
     "execution_count": 75,
     "metadata": {},
     "output_type": "execute_result"
    },
    {
     "data": {
      "image/png": "[encoded data removed]",
      "text/plain": [
       "<Figure size 1080x216 with 1 Axes>"
      ]
     },
     "metadata": {
      "needs_background": "light"
     },
     "output_type": "display_data"
    }
   ],
   "source": [
    "#Percent of Service Centers by State\n",
    "df_state.sort_values(['percent_servicecenter'], ascending=False, inplace=True)\n",
    "plt.gcf().set_size_inches(15, 3)\n",
    "sns.barplot(x='state', y='percent_servicecenter', data=df_state).set(title='Service Center Percentage by State')"
   ]
  },
  {
   "cell_type": "markdown",
   "metadata": {},
   "source": [
    "### Does being a service center have a higher propability of having more reviews or higher rating?\n"
   ]
  },
  {
   "cell_type": "code",
   "execution_count": 226,
   "metadata": {},
   "outputs": [
    {
     "data": {
      "text/html": [
       "<div>\n",
       "<style scoped>\n",
       "    .dataframe tbody tr th:only-of-type {\n",
       "        vertical-align: middle;\n",
       "    }\n",
       "\n",
       "    .dataframe tbody tr th {\n",
       "        vertical-align: top;\n",
       "    }\n",
       "\n",
       "    .dataframe thead th {\n",
       "        text-align: right;\n",
       "    }\n",
       "</style>\n",
       "<table border=\"1\" class=\"dataframe\">\n",
       "  <thead>\n",
       "    <tr style=\"text-align: right;\">\n",
       "      <th></th>\n",
       "      <th>service_center</th>\n",
       "      <th>rating</th>\n",
       "      <th>avg_num_of_reviews</th>\n",
       "      <th>num_of_locs</th>\n",
       "    </tr>\n",
       "  </thead>\n",
       "  <tbody>\n",
       "    <tr>\n",
       "      <td>0</td>\n",
       "      <td>0.0</td>\n",
       "      <td>4.469091</td>\n",
       "      <td>37.927273</td>\n",
       "      <td>55</td>\n",
       "    </tr>\n",
       "    <tr>\n",
       "      <td>1</td>\n",
       "      <td>1.0</td>\n",
       "      <td>4.422222</td>\n",
       "      <td>39.945455</td>\n",
       "      <td>55</td>\n",
       "    </tr>\n",
       "  </tbody>\n",
       "</table>\n",
       "</div>"
      ],
      "text/plain": [
       "   service_center    rating  avg_num_of_reviews  num_of_locs\n",
       "0             0.0  4.469091           37.927273           55\n",
       "1             1.0  4.422222           39.945455           55"
      ]
     },
     "execution_count": 226,
     "metadata": {},
     "output_type": "execute_result"
    }
   ],
   "source": [
    "df['service_center'] = df['service_center'].fillna(0) #turn all nulls to zero\n",
    "\n",
    "df_ss_count = df.groupby(['service_center']).size() #count how many locations are service centers\n",
    "df_ss1 = df.groupby(['service_center']).mean()\n",
    "\n",
    "df_ss1 = pd.concat([\n",
    "    df_ss1,\n",
    "    df_ss_count], 1)\n",
    "\n",
    "df_ss1.rename(columns={df_ss1.columns[3]: \"num_of_locs\"}, inplace = True)\n",
    "df_ss1.rename(columns={df_ss1.columns[2]: \"avg_num_of_reviews\"}, inplace = True)\n",
    "df_ss1.reset_index(level=0, inplace=True) #turn service_center index into a new col (boolean)\n",
    "df_ss1.drop(['price_level'], 1, inplace=True)\n",
    "\n",
    "df_ss1"
   ]
  },
  {
   "cell_type": "code",
   "execution_count": 186,
   "metadata": {},
   "outputs": [
    {
     "data": {
      "text/plain": [
       "[(50, 60)]"
      ]
     },
     "execution_count": 186,
     "metadata": {},
     "output_type": "execute_result"
    },
    {
     "data": {
      "image/png": "[encoded data removed]",
      "text/plain": [
       "<Figure size 1080x216 with 3 Axes>"
      ]
     },
     "metadata": {
      "needs_background": "light"
     },
     "output_type": "display_data"
    }
   ],
   "source": [
    "fig, axes = plt.subplots(1, 3, figsize=(15,3))\n",
    "sns.barplot(ax=axes[0], x='service_center', y='rating', data=df_ss1).set(ylim=(4,4.6))\n",
    "sns.barplot(ax=axes[1], x='service_center', y='avg_num_of_reviews', data=df_ss1).set(ylim=(30,45))\n",
    "sns.barplot(ax=axes[2], x='service_center', y='num_of_locs', data=df_ss1).set(ylim=(50,60))\n",
    "\n",
    "#these figures aren't very pretty, but communicates that there isn't a big difference between service_center qualifier\n",
    "#the ylim scaling impacts interpretation, so we would probably want to just show these as numerics rather than figures.\n",
    "\n",
    "#can do ANOVA test (scipy.stats.f_oneway) to analyze f & p values to confirm no difference of rating & review_count\n",
    "#if p>0.05 then there is not a sig diff"
   ]
  },
  {
   "cell_type": "code",
   "execution_count": 207,
   "metadata": {},
   "outputs": [],
   "source": [
    "df_noss = df.loc[(df['service_center'] == 0)]\n",
    "df_ss = df.loc[(df['service_center'] == 1)]"
   ]
  },
  {
   "cell_type": "code",
   "execution_count": 208,
   "metadata": {},
   "outputs": [],
   "source": [
    "import scipy.stats as stats\n",
    "# stats f_oneway functions takes the groups as input and returns ANOVA F and p value\n",
    "fvalue, pvalue = stats.f_oneway(df_noss['rating'], df_ss['rating'])\n",
    "\n",
    "#if p>0.05 then there is not a sig diff"
   ]
  }
 ],
 "metadata": {
  "kernelspec": {
   "display_name": "Python 3",
   "language": "python",
   "name": "python3"
  },
  "language_info": {
   "codemirror_mode": {
    "name": "ipython",
    "version": 3
   },
   "file_extension": ".py",
   "mimetype": "text/x-python",
   "name": "python",
   "nbconvert_exporter": "python",
   "pygments_lexer": "ipython3",
   "version": "3.7.4"
  }
 },
 "nbformat": 4,
 "nbformat_minor": 2
}
